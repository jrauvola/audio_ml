{
 "cells": [
  {
   "cell_type": "code",
   "execution_count": 9,
   "metadata": {},
   "outputs": [],
   "source": [
    "import librosa, librosa.display\n",
    "import matplotlib.pyplot as plt\n",
    "import numpy as np\n",
    "from pydub import AudioSegment\n",
    "import os\n",
    "\n",
    "# Define parameters for spectrogram calculation\n",
    "n_fft = 2048  # Number of samples per Fast-Fourier Transform\n",
    "hop_length = 512  # Number of FFT shifts (in intervals)"
   ]
  },
  {
   "cell_type": "code",
   "execution_count": 10,
   "metadata": {},
   "outputs": [],
   "source": [
    "def m4a_to_wav(m4a_file, wav_dir):\n",
    "    # Load the M4A audio file\n",
    "    audio = AudioSegment.from_file(m4a_file, format=\"m4a\")\n",
    "\n",
    "    # Construct the WAV file name based on the M4A file name\n",
    "    wav_files = os.path.join(wav_dir, os.path.basename(m4a_file).replace(\".m4a\", \".wav\"))\n",
    "\n",
    "    # Export the audio to WAV format\n",
    "    audio.export(wav_file, format=\"wav\")"
   ]
  },
  {
   "cell_type": "code",
   "execution_count": 11,
   "metadata": {},
   "outputs": [],
   "source": [
    "def log_spectrogram(wav_files):\n",
    "    # Create a new folder to store spectrogram plots\n",
    "    output_folder = os.path.join(folder_path, 'Spectrogram_Plots')\n",
    "    os.makedirs(output_folder, exist_ok=True)  # Create folder if it doesn't exist\n",
    "    \n",
    "    for wav_file in wav_files:\n",
    "        # Load audio file\n",
    "        file_path = os.path.join(folder_path, wav_file)\n",
    "        signal, sr = librosa.load(file_path, sr=22050)  # Load with a sample rate of 22050 Hz\n",
    "        \n",
    "        # Calculate Short-Time Fourier Transform (STFT)\n",
    "        stft = librosa.core.stft(signal, hop_length=hop_length, n_fft=n_fft)\n",
    "        \n",
    "        # Calculate spectrogram and convert to logarithmic scale\n",
    "        spectrogram = np.abs(stft)\n",
    "        log_spectrogram = librosa.amplitude_to_db(spectrogram)\n",
    "        \n",
    "        # Plot and save the spectrogram in the new folder\n",
    "        plt.figure(figsize=(10, 5))\n",
    "        librosa.display.specshow(log_spectrogram, sr=sr, hop_length=hop_length)\n",
    "        \n",
    "        # Save the plot in the new folder\n",
    "        plot_file_name = os.path.splitext(wav_file)[0] + '_spectrogram.png'\n",
    "        plot_file_path = os.path.join(output_folder, plot_file_name)\n",
    "        plt.savefig(plot_file_path)\n",
    "        \n",
    "        # Close the plot to free up resources\n",
    "        plt.close()\n",
    "\n",
    "\n",
    "# MFFCs = librosa.feature.mfcc(y=signal, n_fft=n_fft, hop_length=hop_length, n_mfcc=13) # 13 to 40 is common for music"
   ]
  },
  {
   "cell_type": "code",
   "execution_count": 13,
   "metadata": {},
   "outputs": [],
   "source": [
    "log_spectrogram(wav_files)"
   ]
  },
  {
   "cell_type": "code",
   "execution_count": 12,
   "metadata": {},
   "outputs": [],
   "source": [
    "def main():\n",
    "    current_directory = os.getcwd()\n",
    "\n",
    "    directory = current_directory + '/Phoneme Recordings'\n",
    "\n",
    "    # Set path to folder containing .wav files\n",
    "    folder_path = directory\n",
    "\n",
    "    # Get list of .wav files in the folder\n",
    "    m4a_files = [f for f in os.listdir(folder_path) if f.endswith('.m4a')]\n",
    "\n",
    "    for i in len(m4a_files):\n",
    "        m4a_to_wav(m4a_files[i])\n",
    "        \n",
    "\n",
    "    "
   ]
  },
  {
   "cell_type": "code",
   "execution_count": null,
   "metadata": {},
   "outputs": [],
   "source": [
    "\n"
   ]
  }
 ],
 "metadata": {
  "kernelspec": {
   "display_name": "base",
   "language": "python",
   "name": "python3"
  },
  "language_info": {
   "codemirror_mode": {
    "name": "ipython",
    "version": 3
   },
   "file_extension": ".py",
   "mimetype": "text/x-python",
   "name": "python",
   "nbconvert_exporter": "python",
   "pygments_lexer": "ipython3",
   "version": "3.11.4"
  }
 },
 "nbformat": 4,
 "nbformat_minor": 2
}
